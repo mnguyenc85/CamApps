{
 "cells": [
  {
   "cell_type": "markdown",
   "id": "5c7f0f36",
   "metadata": {},
   "source": [
    "## Khởi tạo"
   ]
  },
  {
   "cell_type": "code",
   "execution_count": 2,
   "id": "af52cdfd",
   "metadata": {},
   "outputs": [
    {
     "name": "stderr",
     "output_type": "stream",
     "text": [
      "Neither CUDA nor MPS are available - defaulting to CPU. Note: This module is much faster with a GPU.\n"
     ]
    }
   ],
   "source": [
    "import numpy as np\n",
    "import cv2\n",
    "import pytesseract\n",
    "import easyocr\n",
    "from myutils import MyUtils\n",
    "from mynbutils import show_cv2_img\n",
    "from ndbsx_v1 import NDBSXv1\n",
    "\n",
    "# Nếu dùng Windows, cần chỉ rõ đường dẫn Tesseract\n",
    "pytesseract.pytesseract.tesseract_cmd = r'C:\\Program Files\\Tesseract-OCR\\tesseract.exe'\n",
    "\n",
    "reader = easyocr.Reader(['en']) # this needs to run only once to load the model into memory"
   ]
  },
  {
   "cell_type": "code",
   "execution_count": 3,
   "id": "0f280a35",
   "metadata": {},
   "outputs": [],
   "source": [
    "# tính độ nghiêng: đầu vào phải là ảnh gray\n",
    "# độ chính xác thấp, cần làm lại\n",
    "def cal_angle(img):\n",
    "  blur = cv2.GaussianBlur(img, (5, 5), 0)\n",
    "  edges = cv2.Canny(blur, 50, 150)\n",
    "\n",
    "  # Tìm contour\n",
    "  contours, _ = cv2.findContours(edges, cv2.RETR_EXTERNAL, cv2.CHAIN_APPROX_SIMPLE)\n",
    "\n",
    "  # Lọc contour lớn nhất (giả sử là biển số)\n",
    "  max_contour = max(contours, key=cv2.contourArea)\n",
    "\n",
    "  # Tính hình chữ nhật xoay nhỏ nhất\n",
    "  rect = cv2.minAreaRect(max_contour)\n",
    "  (box_x, box_y), (w, h), angle = rect\n",
    "\n",
    "  # Hiển thị thông tin\n",
    "  print(f\"Độ nghiêng (góc): {angle:.2f} độ\")\n",
    "\n",
    "  # Vẽ rectangle để kiểm tra\n",
    "  box = cv2.boxPoints(rect)\n",
    "  box = np.intp(box)\n",
    "  img_box_bgr = cv2.cvtColor(img, cv2.COLOR_GRAY2BGR)\n",
    "  img_box = cv2.drawContours(img_box_bgr, [box], 0, (0, 255, 0), 2)\n",
    "\n",
    "  show_cv2_img(img_box)\n",
    "\n",
    "  return angle"
   ]
  },
  {
   "cell_type": "code",
   "execution_count": 3,
   "id": "13ddebfe",
   "metadata": {},
   "outputs": [
    {
     "name": "stderr",
     "output_type": "stream",
     "text": [
      "Using cache found in C:\\Users\\DELL/.cache\\torch\\hub\\ultralytics_yolov5_master\n",
      "YOLOv5  2025-5-19 Python-3.12.8 torch-2.2.2+cpu CPU\n",
      "\n",
      "Fusing layers... \n",
      "Model summary: 213 layers, 7012822 parameters, 0 gradients, 15.8 GFLOPs\n",
      "Adding AutoShape... \n"
     ]
    }
   ],
   "source": [
    "ndbsx = NDBSXv1()"
   ]
  },
  {
   "cell_type": "markdown",
   "id": "046f2cb2",
   "metadata": {},
   "source": [
    "## Tìm vị trí biển số xe"
   ]
  },
  {
   "cell_type": "code",
   "execution_count": 4,
   "id": "8542b718",
   "metadata": {},
   "outputs": [],
   "source": [
    "%matplotlib inline\n",
    "# Load 1 file ảnh ngẫu nhiên\n",
    "bsx_path = './data/bsx/'\n",
    "img_bgr = MyUtils.load_random_image(bsx_path)\n",
    "\n",
    "# xác định vị trí bsx\n",
    "img_rgb = cv2.cvtColor(img_bgr, cv2.COLOR_BGR2RGB)\n",
    "detections = ndbsx.find_bsx_rect(img_rgb)"
   ]
  },
  {
   "cell_type": "markdown",
   "id": "3932e931",
   "metadata": {},
   "source": [
    "#### Debug: vị trí biến số xe"
   ]
  },
  {
   "cell_type": "code",
   "execution_count": 104,
   "id": "f85c54cb",
   "metadata": {},
   "outputs": [],
   "source": [
    "# hiện ảnh vị trí biển số xe\n",
    "def debug_crop_bsx():\n",
    "    for d in detections:\n",
    "        x1, y1, x2, y2 = d[\"box\"]\n",
    "        x1, y1, x2, y2 = map(int, [x1, y1, x2, y2])\n",
    "        label = f\"{d[\"conf\"]:.2f}\"\n",
    "        \n",
    "        # Draw bounding box\n",
    "        cv2.rectangle(img_bgr, (x1, y1), (x2, y2), color=(0, 255, 0), thickness=2)\n",
    "        # Put label above the box\n",
    "        cv2.putText(img_bgr, label, (x1, y1 - 10), cv2.FONT_HERSHEY_SIMPLEX,\n",
    "                    fontScale=0.5, color=(0, 255, 0), thickness=2)\n",
    "\n",
    "    show_cv2_img(img_bgr)"
   ]
  },
  {
   "cell_type": "markdown",
   "id": "3c13920b",
   "metadata": {},
   "source": [
    "### Xử lý ảnh"
   ]
  },
  {
   "cell_type": "code",
   "execution_count": null,
   "id": "2c250932",
   "metadata": {},
   "outputs": [
    {
     "data": {
      "image/png": "[encoded data removed]",
      "text/plain": [
       "<Figure size 207x67 with 1 Axes>"
      ]
     },
     "metadata": {},
     "output_type": "display_data"
    },
    {
     "data": {
      "image/png": "[encoded data removed]",
      "text/plain": [
       "<Figure size 207x67 with 1 Axes>"
      ]
     },
     "metadata": {},
     "output_type": "display_data"
    },
    {
     "data": {
      "image/png": "[encoded data removed]",
      "text/plain": [
       "<Figure size 207x67 with 1 Axes>"
      ]
     },
     "metadata": {},
     "output_type": "display_data"
    }
   ],
   "source": [
    "lp_bgr = MyUtils.crop_bsx(img_bgr, detections[0], 3)\n",
    "lp_gray = cv2.cvtColor(lp_bgr, cv2.COLOR_BGR2GRAY)\n",
    "lp_gray = cv2.bilateralFilter(lp_gray, 11, 17, 17)  # làm mịn\n",
    "\n",
    "show_cv2_img(lp_gray)\n",
    "\n",
    "lp_contrast = cv2.equalizeHist(lp_gray)\n",
    "show_cv2_img(lp_contrast)\n",
    "\n",
    "# Áp dụng adaptive thresholding\n",
    "lp_thresh = cv2.adaptiveThreshold(lp_gray, 255, cv2.ADAPTIVE_THRESH_GAUSSIAN_C, cv2.THRESH_BINARY, 11, 2)\n",
    "show_cv2_img(lp_thresh)\n",
    "\n",
    "# Áp dụng Otsu thresholding\n",
    "# _, lp_thresh = cv2.threshold(lp_gray, 0, 255, cv2.THRESH_BINARY + cv2.THRESH_OTSU)\n",
    "# show_cv2_img(lp_thresh)"
   ]
  },
  {
   "cell_type": "code",
   "execution_count": 17,
   "id": "acf50916",
   "metadata": {},
   "outputs": [
    {
     "data": {
      "image/png": "[encoded data removed]",
      "text/plain": [
       "<Figure size 207x67 with 1 Axes>"
      ]
     },
     "metadata": {},
     "output_type": "display_data"
    }
   ],
   "source": [
    "# Xóa viền\n",
    "lp_bi_1 = MyUtils.tach_vien(lp_thresh)\n",
    "show_cv2_img(lp_bi_1)"
   ]
  },
  {
   "cell_type": "code",
   "execution_count": 18,
   "id": "e26d6324",
   "metadata": {},
   "outputs": [
    {
     "data": {
      "image/png": "[encoded data removed]",
      "text/plain": [
       "<Figure size 207x67 with 1 Axes>"
      ]
     },
     "metadata": {},
     "output_type": "display_data"
    }
   ],
   "source": [
    "# xóa bọt\n",
    "def xoa_bot(image_bi, sz = 2):\n",
    "  # Tạo kernel cho phép toán hình thái\n",
    "  kernel = np.ones((sz, sz), np.uint8)  # Kích thước kernel có thể điều chỉnh (3x3 hoặc 5x5)\n",
    "\n",
    "  # Áp dụng phép toán mở (opening) để loại bỏ nhiễu trắng nhỏ\n",
    "  cleaned = cv2.morphologyEx(image_bi, cv2.MORPH_OPEN, kernel, iterations=1)\n",
    "\n",
    "  # (Tùy chọn) Áp dụng phép toán đóng (closing) để lấp các lỗ nhỏ trong văn bản\n",
    "  cleaned = cv2.morphologyEx(cleaned, cv2.MORPH_CLOSE, kernel, iterations=1)\n",
    "\n",
    "  return cleaned\n",
    "\n",
    "lp_bi_2 = xoa_bot(lp_bi_1)\n",
    "show_cv2_img(lp_bi_2)"
   ]
  },
  {
   "cell_type": "markdown",
   "id": "4f344c19",
   "metadata": {},
   "source": [
    "#### Tính góc nghiêng"
   ]
  },
  {
   "cell_type": "code",
   "execution_count": 46,
   "id": "3ceb6891",
   "metadata": {},
   "outputs": [
    {
     "name": "stdout",
     "output_type": "stream",
     "text": [
      "Độ nghiêng (góc): 90.00 độ\n"
     ]
    },
    {
     "data": {
      "image/png": "[encoded data removed]",
      "text/plain": [
       "<Figure size 207x67 with 1 Axes>"
      ]
     },
     "metadata": {},
     "output_type": "display_data"
    },
    {
     "data": {
      "image/png": "[encoded data removed]",
      "text/plain": [
       "<Figure size 207x67 with 1 Axes>"
      ]
     },
     "metadata": {},
     "output_type": "display_data"
    },
    {
     "data": {
      "image/png": "[encoded data removed]",
      "text/plain": [
       "<Figure size 207x67 with 1 Axes>"
      ]
     },
     "metadata": {},
     "output_type": "display_data"
    }
   ],
   "source": [
    "angle = cal_angle(lp_gray)\n",
    "\n",
    "lp_gray_rotated = MyUtils.rotate_image(lp_gray, angle - 90)\n",
    "show_cv2_img(lp_gray_rotated)\n",
    "\n",
    "# Áp dụng Otsu thresholding\n",
    "_, lp_thresh_rotated = cv2.threshold(lp_gray_rotated, 0, 255, cv2.THRESH_BINARY + cv2.THRESH_OTSU)\n",
    "show_cv2_img(lp_thresh_rotated)"
   ]
  },
  {
   "cell_type": "markdown",
   "id": "fc3b4f36",
   "metadata": {},
   "source": [
    "### Nhận dạng ký tự"
   ]
  },
  {
   "cell_type": "markdown",
   "id": "d9e36054",
   "metadata": {},
   "source": [
    "#### Tesseract"
   ]
  },
  {
   "cell_type": "code",
   "execution_count": 19,
   "id": "67c8298e",
   "metadata": {},
   "outputs": [
    {
     "name": "stdout",
     "output_type": "stream",
     "text": [
      "--oem 3 --psm 11 -c tessedit_char_whitelist=ABCDEFGHIJKLMNOPQRSTUVWXYZ0123456789.-\n",
      "found: 51C-84953\n",
      "\n",
      "--oem 3 --psm 11 -c tessedit_char_whitelist=ABCDEFGHIJKLMNOPQRSTUVWXYZ0123456789.-\n",
      "found: 51C-849.53\n",
      "\n"
     ]
    }
   ],
   "source": [
    "# OCR\n",
    "def ocr_bsx(img):\n",
    "  h, w = img.shape[:2]\n",
    "\n",
    "  if w / h > 2.2:\n",
    "    # bien dai - 1 dòng\n",
    "    custom_config = r'--oem 3 --psm 11 -c tessedit_char_whitelist=ABCDEFGHIJKLMNOPQRSTUVWXYZ0123456789.-'\n",
    "  else:\n",
    "    # bien 2 dòng\n",
    "    custom_config = r'--oem 3 --psm 3 -c tessedit_char_whitelist=ABCDEFGHIJKLMNOPQRSTUVWXYZ0123456789.-'\n",
    "\n",
    "  print(custom_config)\n",
    "  text = pytesseract.image_to_string(img, config=custom_config, lang=\"eng\")\n",
    "  print(f'found: {text}')\n",
    "\n",
    "ocr_bsx(lp_bi_1)\n",
    "ocr_bsx(lp_bi_2)"
   ]
  },
  {
   "cell_type": "code",
   "execution_count": 20,
   "id": "870019cb",
   "metadata": {},
   "outputs": [
    {
     "name": "stdout",
     "output_type": "stream",
     "text": [
      "[([[4, 10], [206, 10], [206, 64], [4, 64]], '51C849.53', 0.5223157525291219)]\n",
      "[([[6, 10], [207, 10], [207, 65], [6, 65]], '51c849.53', 0.7335872613431645)]\n"
     ]
    }
   ],
   "source": [
    "result = reader.readtext(lp_bi_1)\n",
    "print(result)\n",
    "result = reader.readtext(lp_bi_2)\n",
    "print(result)"
   ]
  }
 ],
 "metadata": {
  "kernelspec": {
   "display_name": "mml",
   "language": "python",
   "name": "python3"
  },
  "language_info": {
   "codemirror_mode": {
    "name": "ipython",
    "version": 3
   },
   "file_extension": ".py",
   "mimetype": "text/x-python",
   "name": "python",
   "nbconvert_exporter": "python",
   "pygments_lexer": "ipython3",
   "version": "3.12.8"
  }
 },
 "nbformat": 4,
 "nbformat_minor": 5
}
