{
 "cells": [
  {
   "cell_type": "code",
   "execution_count": 1,
   "id": "6d1af716",
   "metadata": {},
   "outputs": [],
   "source": [
    "import cv2\n",
    "from myutils import MyUtils\n",
    "from mynbutils import show_cv2_img"
   ]
  },
  {
   "cell_type": "code",
   "execution_count": 11,
   "id": "01beca35",
   "metadata": {},
   "outputs": [],
   "source": [
    "def findnshow_contours(image_bi, inv: bool = False):\n",
    "  img = cv2.bitwise_not(img_bi) if inv else image_bi\n",
    "  \n",
    "  # Tìm contour\n",
    "  contours, hierarchy = cv2.findContours(\n",
    "    img, \n",
    "    mode=cv2.RETR_EXTERNAL,\n",
    "    #mode=cv2.RETR_TREE,       # Lấy tất cả contour và cấu trúc phân cấp\n",
    "    method=cv2.CHAIN_APPROX_SIMPLE  # Phương pháp xấp xỉ contour\n",
    "  )\n",
    "\n",
    "  # Tạo ảnh màu để vẽ contour (nếu ảnh gốc là grayscale)\n",
    "  img_out = cv2.cvtColor(image_bi, cv2.COLOR_GRAY2BGR)\n",
    "\n",
    "  # Vẽ contour lên ảnh\n",
    "  cv2.drawContours(\n",
    "    img_out, \n",
    "    contours, \n",
    "    contourIdx=-1,           # -1: vẽ tất cả contour\n",
    "    color=(0, 255, 0),       # Màu xanh lá (BGR)\n",
    "    thickness=2              # Độ dày đường viền\n",
    "  )\n",
    "\n",
    "  return img_out"
   ]
  },
  {
   "cell_type": "code",
   "execution_count": 23,
   "id": "84c32d63",
   "metadata": {},
   "outputs": [],
   "source": [
    "img = cv2.imread('./data/test_contour2.png')\n",
    "img_gray = cv2.cvtColor(img, cv2.COLOR_BGR2GRAY)\n",
    "_, img_bi = cv2.threshold(img_gray, 0, 255, cv2.THRESH_BINARY + cv2.THRESH_OTSU)"
   ]
  },
  {
   "cell_type": "code",
   "execution_count": 24,
   "id": "f9d45869",
   "metadata": {},
   "outputs": [
    {
     "data": {
      "image/png": "[encoded data removed]",
      "text/plain": [
       "<Figure size 128x128 with 1 Axes>"
      ]
     },
     "metadata": {},
     "output_type": "display_data"
    }
   ],
   "source": [
    "img_c = findnshow_contours(img_bi)\n",
    "show_cv2_img(img_c)"
   ]
  }
 ],
 "metadata": {
  "kernelspec": {
   "display_name": "mml",
   "language": "python",
   "name": "python3"
  },
  "language_info": {
   "codemirror_mode": {
    "name": "ipython",
    "version": 3
   },
   "file_extension": ".py",
   "mimetype": "text/x-python",
   "name": "python",
   "nbconvert_exporter": "python",
   "pygments_lexer": "ipython3",
   "version": "3.12.8"
  }
 },
 "nbformat": 4,
 "nbformat_minor": 5
}
